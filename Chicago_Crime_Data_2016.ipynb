{
 "cells": [
  {
   "cell_type": "markdown",
   "id": "68783d34",
   "metadata": {},
   "source": [
    "Chicago 2016 Crime Data Analysis"
   ]
  },
  {
   "cell_type": "markdown",
   "id": "05cd723b",
   "metadata": {},
   "source": [
    "Importing pandas and csv file using that"
   ]
  },
  {
   "cell_type": "code",
   "execution_count": 1,
   "id": "1367d670",
   "metadata": {},
   "outputs": [],
   "source": [
    "import pandas as pd"
   ]
  },
  {
   "cell_type": "code",
   "execution_count": 2,
   "id": "c0f2cbf2",
   "metadata": {},
   "outputs": [],
   "source": [
    "df = pd.read_csv('C:\\\\Users\\\\91721\\\\Downloads\\\\chicago_crime_2016.csv')"
   ]
  },
  {
   "cell_type": "code",
   "execution_count": 4,
   "id": "1107eac4",
   "metadata": {},
   "outputs": [
    {
     "data": {
      "text/html": [
       "<div>\n",
       "<style scoped>\n",
       "    .dataframe tbody tr th:only-of-type {\n",
       "        vertical-align: middle;\n",
       "    }\n",
       "\n",
       "    .dataframe tbody tr th {\n",
       "        vertical-align: top;\n",
       "    }\n",
       "\n",
       "    .dataframe thead th {\n",
       "        text-align: right;\n",
       "    }\n",
       "</style>\n",
       "<table border=\"1\" class=\"dataframe\">\n",
       "  <thead>\n",
       "    <tr style=\"text-align: right;\">\n",
       "      <th></th>\n",
       "      <th>ID</th>\n",
       "      <th>Case Number</th>\n",
       "      <th>Date</th>\n",
       "      <th>Block</th>\n",
       "      <th>IUCR</th>\n",
       "      <th>Primary Type</th>\n",
       "      <th>Description</th>\n",
       "      <th>Location Description</th>\n",
       "      <th>Arrest</th>\n",
       "      <th>Domestic</th>\n",
       "      <th>Beat</th>\n",
       "      <th>District</th>\n",
       "      <th>Ward</th>\n",
       "      <th>Community Area</th>\n",
       "      <th>FBI Code</th>\n",
       "      <th>Latitude</th>\n",
       "      <th>Longitude</th>\n",
       "    </tr>\n",
       "  </thead>\n",
       "  <tbody>\n",
       "    <tr>\n",
       "      <th>0</th>\n",
       "      <td>10402434</td>\n",
       "      <td>HZ138921</td>\n",
       "      <td>01/08/2016 12:00:00 PM</td>\n",
       "      <td>004XX W 126TH PL</td>\n",
       "      <td>0610</td>\n",
       "      <td>BURGLARY</td>\n",
       "      <td>FORCIBLE ENTRY</td>\n",
       "      <td>RESIDENCE</td>\n",
       "      <td>False</td>\n",
       "      <td>False</td>\n",
       "      <td>523</td>\n",
       "      <td>5</td>\n",
       "      <td>9</td>\n",
       "      <td>53</td>\n",
       "      <td>05</td>\n",
       "      <td>NaN</td>\n",
       "      <td>NaN</td>\n",
       "    </tr>\n",
       "    <tr>\n",
       "      <th>1</th>\n",
       "      <td>10402492</td>\n",
       "      <td>HZ133048</td>\n",
       "      <td>01/28/2016 12:00:00 PM</td>\n",
       "      <td>059XX W HURON ST</td>\n",
       "      <td>0620</td>\n",
       "      <td>BURGLARY</td>\n",
       "      <td>UNLAWFUL ENTRY</td>\n",
       "      <td>RESIDENCE</td>\n",
       "      <td>False</td>\n",
       "      <td>False</td>\n",
       "      <td>1511</td>\n",
       "      <td>15</td>\n",
       "      <td>29</td>\n",
       "      <td>25</td>\n",
       "      <td>05</td>\n",
       "      <td>NaN</td>\n",
       "      <td>NaN</td>\n",
       "    </tr>\n",
       "    <tr>\n",
       "      <th>2</th>\n",
       "      <td>10402728</td>\n",
       "      <td>HZ139188</td>\n",
       "      <td>01/04/2016 09:00:00 PM</td>\n",
       "      <td>043XX W FORD CITY DR</td>\n",
       "      <td>0520</td>\n",
       "      <td>ASSAULT</td>\n",
       "      <td>AGGRAVATED:KNIFE/CUTTING INSTR</td>\n",
       "      <td>APARTMENT</td>\n",
       "      <td>False</td>\n",
       "      <td>True</td>\n",
       "      <td>833</td>\n",
       "      <td>8</td>\n",
       "      <td>13</td>\n",
       "      <td>65</td>\n",
       "      <td>04A</td>\n",
       "      <td>NaN</td>\n",
       "      <td>NaN</td>\n",
       "    </tr>\n",
       "    <tr>\n",
       "      <th>3</th>\n",
       "      <td>10402839</td>\n",
       "      <td>HZ139320</td>\n",
       "      <td>01/06/2016 03:53:00 PM</td>\n",
       "      <td>069XX N BELL AVE</td>\n",
       "      <td>2826</td>\n",
       "      <td>OTHER OFFENSE</td>\n",
       "      <td>HARASSMENT BY ELECTRONIC MEANS</td>\n",
       "      <td>OTHER</td>\n",
       "      <td>False</td>\n",
       "      <td>False</td>\n",
       "      <td>2411</td>\n",
       "      <td>24</td>\n",
       "      <td>50</td>\n",
       "      <td>2</td>\n",
       "      <td>26</td>\n",
       "      <td>NaN</td>\n",
       "      <td>NaN</td>\n",
       "    </tr>\n",
       "    <tr>\n",
       "      <th>4</th>\n",
       "      <td>10403518</td>\n",
       "      <td>HZ108509</td>\n",
       "      <td>01/08/2016 02:35:00 PM</td>\n",
       "      <td>048XX W CHICAGO AVE</td>\n",
       "      <td>5011</td>\n",
       "      <td>OTHER OFFENSE</td>\n",
       "      <td>LICENSE VIOLATION</td>\n",
       "      <td>CONVENIENCE STORE</td>\n",
       "      <td>False</td>\n",
       "      <td>False</td>\n",
       "      <td>1531</td>\n",
       "      <td>15</td>\n",
       "      <td>28</td>\n",
       "      <td>25</td>\n",
       "      <td>26</td>\n",
       "      <td>NaN</td>\n",
       "      <td>NaN</td>\n",
       "    </tr>\n",
       "  </tbody>\n",
       "</table>\n",
       "</div>"
      ],
      "text/plain": [
       "         ID Case Number                    Date                 Block  IUCR  \\\n",
       "0  10402434    HZ138921  01/08/2016 12:00:00 PM      004XX W 126TH PL  0610   \n",
       "1  10402492    HZ133048  01/28/2016 12:00:00 PM      059XX W HURON ST  0620   \n",
       "2  10402728    HZ139188  01/04/2016 09:00:00 PM  043XX W FORD CITY DR  0520   \n",
       "3  10402839    HZ139320  01/06/2016 03:53:00 PM      069XX N BELL AVE  2826   \n",
       "4  10403518    HZ108509  01/08/2016 02:35:00 PM   048XX W CHICAGO AVE  5011   \n",
       "\n",
       "    Primary Type                     Description Location Description  Arrest  \\\n",
       "0       BURGLARY                  FORCIBLE ENTRY            RESIDENCE   False   \n",
       "1       BURGLARY                  UNLAWFUL ENTRY            RESIDENCE   False   \n",
       "2        ASSAULT  AGGRAVATED:KNIFE/CUTTING INSTR            APARTMENT   False   \n",
       "3  OTHER OFFENSE  HARASSMENT BY ELECTRONIC MEANS                OTHER   False   \n",
       "4  OTHER OFFENSE               LICENSE VIOLATION    CONVENIENCE STORE   False   \n",
       "\n",
       "   Domestic  Beat  District  Ward  Community Area FBI Code  Latitude  \\\n",
       "0     False   523         5     9              53       05       NaN   \n",
       "1     False  1511        15    29              25       05       NaN   \n",
       "2      True   833         8    13              65      04A       NaN   \n",
       "3     False  2411        24    50               2       26       NaN   \n",
       "4     False  1531        15    28              25       26       NaN   \n",
       "\n",
       "   Longitude  \n",
       "0        NaN  \n",
       "1        NaN  \n",
       "2        NaN  \n",
       "3        NaN  \n",
       "4        NaN  "
      ]
     },
     "execution_count": 4,
     "metadata": {},
     "output_type": "execute_result"
    }
   ],
   "source": [
    "df.head()"
   ]
  },
  {
   "cell_type": "markdown",
   "id": "f3ed1872",
   "metadata": {},
   "source": [
    "Calculating total no of cases"
   ]
  },
  {
   "cell_type": "code",
   "execution_count": 5,
   "id": "ad058e71",
   "metadata": {},
   "outputs": [],
   "source": [
    "total_cases = len(df.axes[0])"
   ]
  },
  {
   "cell_type": "code",
   "execution_count": 6,
   "id": "14e59425",
   "metadata": {},
   "outputs": [
    {
     "name": "stdout",
     "output_type": "stream",
     "text": [
      "217290\n"
     ]
    }
   ],
   "source": [
    "print(total_cases)"
   ]
  },
  {
   "cell_type": "markdown",
   "id": "b2946cb9",
   "metadata": {},
   "source": [
    "Print case ID's having Community Area = 65"
   ]
  },
  {
   "cell_type": "code",
   "execution_count": 11,
   "id": "bae692fa",
   "metadata": {},
   "outputs": [],
   "source": [
    "df2 = df.loc[df['Community Area'] == 65 , 'ID']"
   ]
  },
  {
   "cell_type": "code",
   "execution_count": 12,
   "id": "9bce0c0b",
   "metadata": {},
   "outputs": [
    {
     "name": "stdout",
     "output_type": "stream",
     "text": [
      "2         10402728\n",
      "457       10396529\n",
      "675       10392101\n",
      "822       10393096\n",
      "1104      10394160\n",
      "            ...   \n",
      "216640    10393943\n",
      "216643    10393976\n",
      "216766    10394480\n",
      "217114    10396237\n",
      "217171    10394400\n",
      "Name: ID, Length: 1740, dtype: int64\n"
     ]
    }
   ],
   "source": [
    "print(df2)"
   ]
  },
  {
   "cell_type": "markdown",
   "id": "5302976e",
   "metadata": {},
   "source": [
    "List the cases having arrests in the case matter"
   ]
  },
  {
   "cell_type": "code",
   "execution_count": 17,
   "id": "31d08193",
   "metadata": {},
   "outputs": [],
   "source": [
    "df3 = df.loc[df['Arrest'] == True]"
   ]
  },
  {
   "cell_type": "code",
   "execution_count": 19,
   "id": "1d095c96",
   "metadata": {},
   "outputs": [
    {
     "data": {
      "text/html": [
       "<div>\n",
       "<style scoped>\n",
       "    .dataframe tbody tr th:only-of-type {\n",
       "        vertical-align: middle;\n",
       "    }\n",
       "\n",
       "    .dataframe tbody tr th {\n",
       "        vertical-align: top;\n",
       "    }\n",
       "\n",
       "    .dataframe thead th {\n",
       "        text-align: right;\n",
       "    }\n",
       "</style>\n",
       "<table border=\"1\" class=\"dataframe\">\n",
       "  <thead>\n",
       "    <tr style=\"text-align: right;\">\n",
       "      <th></th>\n",
       "      <th>ID</th>\n",
       "      <th>Case Number</th>\n",
       "      <th>Date</th>\n",
       "      <th>Block</th>\n",
       "      <th>IUCR</th>\n",
       "      <th>Primary Type</th>\n",
       "      <th>Description</th>\n",
       "      <th>Location Description</th>\n",
       "      <th>Arrest</th>\n",
       "      <th>Domestic</th>\n",
       "      <th>Beat</th>\n",
       "      <th>District</th>\n",
       "      <th>Ward</th>\n",
       "      <th>Community Area</th>\n",
       "      <th>FBI Code</th>\n",
       "      <th>Latitude</th>\n",
       "      <th>Longitude</th>\n",
       "    </tr>\n",
       "  </thead>\n",
       "  <tbody>\n",
       "    <tr>\n",
       "      <th>7</th>\n",
       "      <td>10394835</td>\n",
       "      <td>HZ131250</td>\n",
       "      <td>01/28/2016 12:05:00 AM</td>\n",
       "      <td>064XX S CHAMPLAIN AVE</td>\n",
       "      <td>1320</td>\n",
       "      <td>CRIMINAL DAMAGE</td>\n",
       "      <td>TO VEHICLE</td>\n",
       "      <td>STREET</td>\n",
       "      <td>True</td>\n",
       "      <td>False</td>\n",
       "      <td>312</td>\n",
       "      <td>3</td>\n",
       "      <td>20</td>\n",
       "      <td>42</td>\n",
       "      <td>14</td>\n",
       "      <td>41.777778</td>\n",
       "      <td>-87.609525</td>\n",
       "    </tr>\n",
       "    <tr>\n",
       "      <th>11</th>\n",
       "      <td>10394853</td>\n",
       "      <td>HZ131274</td>\n",
       "      <td>01/28/2016 12:53:00 AM</td>\n",
       "      <td>106XX S KEDZIE AVE</td>\n",
       "      <td>0486</td>\n",
       "      <td>BATTERY</td>\n",
       "      <td>DOMESTIC BATTERY SIMPLE</td>\n",
       "      <td>RESIDENCE</td>\n",
       "      <td>True</td>\n",
       "      <td>True</td>\n",
       "      <td>2211</td>\n",
       "      <td>22</td>\n",
       "      <td>19</td>\n",
       "      <td>74</td>\n",
       "      <td>08B</td>\n",
       "      <td>41.700103</td>\n",
       "      <td>-87.701126</td>\n",
       "    </tr>\n",
       "    <tr>\n",
       "      <th>13</th>\n",
       "      <td>10394855</td>\n",
       "      <td>HZ131285</td>\n",
       "      <td>01/28/2016 01:20:00 AM</td>\n",
       "      <td>068XX S SOUTH CHICAGO AVE</td>\n",
       "      <td>4625</td>\n",
       "      <td>OTHER OFFENSE</td>\n",
       "      <td>PAROLE VIOLATION</td>\n",
       "      <td>STREET</td>\n",
       "      <td>True</td>\n",
       "      <td>False</td>\n",
       "      <td>322</td>\n",
       "      <td>3</td>\n",
       "      <td>20</td>\n",
       "      <td>69</td>\n",
       "      <td>26</td>\n",
       "      <td>41.770757</td>\n",
       "      <td>-87.612397</td>\n",
       "    </tr>\n",
       "    <tr>\n",
       "      <th>14</th>\n",
       "      <td>10394859</td>\n",
       "      <td>HZ131271</td>\n",
       "      <td>01/28/2016 01:04:00 AM</td>\n",
       "      <td>049XX W ADAMS ST</td>\n",
       "      <td>1310</td>\n",
       "      <td>CRIMINAL DAMAGE</td>\n",
       "      <td>TO PROPERTY</td>\n",
       "      <td>APARTMENT</td>\n",
       "      <td>True</td>\n",
       "      <td>False</td>\n",
       "      <td>1533</td>\n",
       "      <td>15</td>\n",
       "      <td>28</td>\n",
       "      <td>25</td>\n",
       "      <td>14</td>\n",
       "      <td>41.878561</td>\n",
       "      <td>-87.748101</td>\n",
       "    </tr>\n",
       "    <tr>\n",
       "      <th>15</th>\n",
       "      <td>10394860</td>\n",
       "      <td>HZ131286</td>\n",
       "      <td>01/28/2016 01:04:00 AM</td>\n",
       "      <td>106XX S MACKINAW AVE</td>\n",
       "      <td>502R</td>\n",
       "      <td>OTHER OFFENSE</td>\n",
       "      <td>VEHICLE TITLE/REG OFFENSE</td>\n",
       "      <td>STREET</td>\n",
       "      <td>True</td>\n",
       "      <td>False</td>\n",
       "      <td>432</td>\n",
       "      <td>4</td>\n",
       "      <td>10</td>\n",
       "      <td>52</td>\n",
       "      <td>26</td>\n",
       "      <td>41.701828</td>\n",
       "      <td>-87.542562</td>\n",
       "    </tr>\n",
       "  </tbody>\n",
       "</table>\n",
       "</div>"
      ],
      "text/plain": [
       "          ID Case Number                    Date                      Block  \\\n",
       "7   10394835    HZ131250  01/28/2016 12:05:00 AM      064XX S CHAMPLAIN AVE   \n",
       "11  10394853    HZ131274  01/28/2016 12:53:00 AM         106XX S KEDZIE AVE   \n",
       "13  10394855    HZ131285  01/28/2016 01:20:00 AM  068XX S SOUTH CHICAGO AVE   \n",
       "14  10394859    HZ131271  01/28/2016 01:04:00 AM           049XX W ADAMS ST   \n",
       "15  10394860    HZ131286  01/28/2016 01:04:00 AM       106XX S MACKINAW AVE   \n",
       "\n",
       "    IUCR     Primary Type                Description Location Description  \\\n",
       "7   1320  CRIMINAL DAMAGE                 TO VEHICLE               STREET   \n",
       "11  0486          BATTERY    DOMESTIC BATTERY SIMPLE            RESIDENCE   \n",
       "13  4625    OTHER OFFENSE           PAROLE VIOLATION               STREET   \n",
       "14  1310  CRIMINAL DAMAGE                TO PROPERTY            APARTMENT   \n",
       "15  502R    OTHER OFFENSE  VEHICLE TITLE/REG OFFENSE               STREET   \n",
       "\n",
       "    Arrest  Domestic  Beat  District  Ward  Community Area FBI Code  \\\n",
       "7     True     False   312         3    20              42       14   \n",
       "11    True      True  2211        22    19              74      08B   \n",
       "13    True     False   322         3    20              69       26   \n",
       "14    True     False  1533        15    28              25       14   \n",
       "15    True     False   432         4    10              52       26   \n",
       "\n",
       "     Latitude  Longitude  \n",
       "7   41.777778 -87.609525  \n",
       "11  41.700103 -87.701126  \n",
       "13  41.770757 -87.612397  \n",
       "14  41.878561 -87.748101  \n",
       "15  41.701828 -87.542562  "
      ]
     },
     "execution_count": 19,
     "metadata": {},
     "output_type": "execute_result"
    }
   ],
   "source": [
    "df3.head()"
   ]
  },
  {
   "cell_type": "markdown",
   "id": "4dc3f92e",
   "metadata": {},
   "source": [
    "List the cases of arrest that are domestic"
   ]
  },
  {
   "cell_type": "code",
   "execution_count": 31,
   "id": "41a89d5d",
   "metadata": {},
   "outputs": [],
   "source": [
    "df4 = df3.loc[df['Domestic'] == True]"
   ]
  },
  {
   "cell_type": "code",
   "execution_count": 24,
   "id": "f4dd6ac4",
   "metadata": {},
   "outputs": [
    {
     "name": "stdout",
     "output_type": "stream",
     "text": [
      "              ID Case Number                    Date                   Block  \\\n",
      "11      10394853    HZ131274  01/28/2016 12:53:00 AM      106XX S KEDZIE AVE   \n",
      "22      10394881    HZ131306  01/28/2016 02:10:00 AM   069XX S EGGLESTON AVE   \n",
      "25      10394887    HZ131310  01/28/2016 03:05:00 AM     020XX N WESTERN AVE   \n",
      "31      10394952    HZ131319  01/28/2016 04:10:00 AM  072XX S MARSHFIELD AVE   \n",
      "44      10394892    HZ131316  01/28/2016 04:00:00 AM    013XX S LAWNDALE AVE   \n",
      "...          ...         ...                     ...                     ...   \n",
      "216957  10394805    HZ131217  01/27/2016 09:45:00 PM         030XX E 80TH PL   \n",
      "216960  10394810    HZ131230  01/27/2016 11:00:00 PM        053XX W HURON ST   \n",
      "216987  10394857    HZ131245  01/27/2016 11:24:00 PM     075XX S KENWOOD AVE   \n",
      "217174  10397375    HZ133190  01/24/2016 11:30:00 PM       013XX N HOMAN AVE   \n",
      "217275  10401270    HZ137705  01/27/2016 10:00:00 AM   013XX W WASHBURNE AVE   \n",
      "\n",
      "        IUCR                Primary Type                     Description  \\\n",
      "11      0486                     BATTERY         DOMESTIC BATTERY SIMPLE   \n",
      "22      0486                     BATTERY         DOMESTIC BATTERY SIMPLE   \n",
      "25      0486                     BATTERY         DOMESTIC BATTERY SIMPLE   \n",
      "31      0486                     BATTERY         DOMESTIC BATTERY SIMPLE   \n",
      "44      0486                     BATTERY         DOMESTIC BATTERY SIMPLE   \n",
      "...      ...                         ...                             ...   \n",
      "216957  0486                     BATTERY         DOMESTIC BATTERY SIMPLE   \n",
      "216960  0486                     BATTERY         DOMESTIC BATTERY SIMPLE   \n",
      "216987  0486                     BATTERY         DOMESTIC BATTERY SIMPLE   \n",
      "217174  0420                     BATTERY  AGGRAVATED:KNIFE/CUTTING INSTR   \n",
      "217275  1750  OFFENSE INVOLVING CHILDREN                     CHILD ABUSE   \n",
      "\n",
      "       Location Description  Arrest  Domestic  Beat  District  Ward  \\\n",
      "11                RESIDENCE    True      True  2211        22    19   \n",
      "22                APARTMENT    True      True   732         7     6   \n",
      "25                APARTMENT    True      True  1432        14    32   \n",
      "31                RESIDENCE    True      True   735         7    17   \n",
      "44                APARTMENT    True      True  1011        10    24   \n",
      "...                     ...     ...       ...   ...       ...   ...   \n",
      "216957            RESIDENCE    True      True   422         4     7   \n",
      "216960            APARTMENT    True      True  1524        15    37   \n",
      "216987            RESIDENCE    True      True   411         4     5   \n",
      "217174            APARTMENT    True      True  1422        14    26   \n",
      "217275               STREET    True      True  1233        12     2   \n",
      "\n",
      "        Community Area FBI Code   Latitude  Longitude  \n",
      "11                  74      08B  41.700103 -87.701126  \n",
      "22                  68      08B  41.767978 -87.636002  \n",
      "25                  22      08B  41.918521 -87.687441  \n",
      "31                  67      08B  41.762159 -87.664959  \n",
      "44                  29      08B  41.863663 -87.717781  \n",
      "...                ...      ...        ...        ...  \n",
      "216957              46      08B  41.749212 -87.550827  \n",
      "216960              25      08B  41.892964 -87.760196  \n",
      "216987              43      08B  41.758259 -87.592001  \n",
      "217174              23      04B  41.905873 -87.711777  \n",
      "217275              28       20  41.866099 -87.659964  \n",
      "\n",
      "[6040 rows x 17 columns]\n"
     ]
    }
   ],
   "source": [
    "print(df4)"
   ]
  },
  {
   "cell_type": "markdown",
   "id": "ac2912b0",
   "metadata": {},
   "source": [
    "We can see here that there are total 6040 rows of domestic cases in Chicago 2016"
   ]
  },
  {
   "cell_type": "markdown",
   "id": "e40a7648",
   "metadata": {},
   "source": [
    "Plotting Graph between domestic cases and Districts of Chicago"
   ]
  },
  {
   "cell_type": "markdown",
   "id": "347ca17b",
   "metadata": {},
   "source": [
    "For plotting , importing the seaborn library"
   ]
  },
  {
   "cell_type": "code",
   "execution_count": 25,
   "id": "aa086944",
   "metadata": {},
   "outputs": [],
   "source": [
    "import seaborn as sns"
   ]
  },
  {
   "cell_type": "code",
   "execution_count": 28,
   "id": "8092befc",
   "metadata": {},
   "outputs": [
    {
     "name": "stderr",
     "output_type": "stream",
     "text": [
      "<__array_function__ internals>:180: RuntimeWarning: Converting input from bool to <class 'numpy.uint8'> for compatibility.\n",
      "<__array_function__ internals>:180: RuntimeWarning: Converting input from bool to <class 'numpy.uint8'> for compatibility.\n"
     ]
    },
    {
     "data": {
      "image/png": "[encoded data removed]",
      "text/plain": [
       "<Figure size 640x480 with 1 Axes>"
      ]
     },
     "metadata": {},
     "output_type": "display_data"
    }
   ],
   "source": [
    "Plot = sns.histplot(y=\"Domestic\", x=\"District\", data = df4)"
   ]
  },
  {
   "cell_type": "markdown",
   "id": "edda24fb",
   "metadata": {},
   "source": [
    "Here, we can clearly see that where the saturation of blue colour is more there the value of domestic cases are more and vice-versa."
   ]
  },
  {
   "cell_type": "markdown",
   "id": "e92bc04a",
   "metadata": {},
   "source": [
    "Key points after the Analysis- "
   ]
  },
  {
   "cell_type": "markdown",
   "id": "e25d2234",
   "metadata": {},
   "source": [
    "1. There are total 6040 domestic cases out of 217290 cases in Chicago 2016. (2.77% of all cases)"
   ]
  },
  {
   "cell_type": "markdown",
   "id": "1f666bbe",
   "metadata": {},
   "source": [
    "2. There are total 6040 domestic cases having arrests out of 217290 cases in Chicago in 2016. (2.77% of all cases)"
   ]
  },
  {
   "cell_type": "markdown",
   "id": "6cceb41a",
   "metadata": {},
   "source": [
    "3. There is proper lawfullness for domestic crimes in Chicago. (Conclusion 1)"
   ]
  },
  {
   "cell_type": "markdown",
   "id": "fd1d4ed2",
   "metadata": {},
   "source": [
    "4. There is no domestic case from District 21 and 23 in Chicago 2016 , so they can referred to as one of the safest places in Chiacgo to live in. (Conclusion 2)"
   ]
  },
  {
   "cell_type": "markdown",
   "id": "f58ebec9",
   "metadata": {},
   "source": [
    "5. The law enactment body can train their people or show some podcasts regarding the domestic cases so that they can be minimised and stopped. (Future Planing)"
   ]
  },
  {
   "cell_type": "code",
   "execution_count": null,
   "id": "d0e6929c",
   "metadata": {},
   "outputs": [],
   "source": []
  }
 ],
 "metadata": {
  "kernelspec": {
   "display_name": "Python 3 (ipykernel)",
   "language": "python",
   "name": "python3"
  },
  "language_info": {
   "codemirror_mode": {
    "name": "ipython",
    "version": 3
   },
   "file_extension": ".py",
   "mimetype": "text/x-python",
   "name": "python",
   "nbconvert_exporter": "python",
   "pygments_lexer": "ipython3",
   "version": "3.10.9"
  }
 },
 "nbformat": 4,
 "nbformat_minor": 5
}
